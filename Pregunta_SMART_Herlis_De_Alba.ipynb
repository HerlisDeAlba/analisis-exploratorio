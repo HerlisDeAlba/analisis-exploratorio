{
  "nbformat": 4,
  "nbformat_minor": 0,
  "metadata": {
    "colab": {
      "provenance": []
    },
    "kernelspec": {
      "name": "python3",
      "display_name": "Python 3"
    },
    "language_info": {
      "name": "python"
    }
  },
  "cells": [
    {
      "cell_type": "markdown",
      "source": [
        "## Problema\n",
        "\n",
        "La rotación de campo podría estar afectando al Talento de alto desempeño. Si bien la rotación es necesaria para ofrecer nuevas experiencias de los colaboradores, podría estar dificultando que los empleados clave desarrollen las competencias especializadas que necesitan para ofrecer el servicio técnico especializado que se ofrece como Compañía y, al mismo tiempo, impidiendo que los empleados se sientan motivados a quedarse en la empresa, lo cual afecta la estabilidad laboral.\n",
        "\n",
        "## Solución con ciencia de datos\n",
        "\n",
        "Usando análisis exploratorio de datos sobre la rotación de campo, se pueden identificar patrones y su relación con indicadores de desarrollo de competencias y retención, podría llegarse a conocer cómo diferentes tipos de rotación influyen en el desarrollo de competencias y en la permanencia de empleados de alto desempeño. Con ello, la organización podría optimizar la asignación de talento, mejorar la formación continua y reducir la rotación no deseada, fortaleciendo así uno de sus factores clave de éxito: el Talento de alto desempeño.\n",
        "\n",
        "## Pregunta SMART\n",
        "\n",
        "***¿Cómo ha impactado la rotación de campo en el desarrollo de competencias y la retención de empleados de la empresa durante el primer semestre del año?***\n",
        "\n",
        "- **Específica:** ¿Qué impacto ha tenido la rotación de campo en el desarrollo de competencias y la retención de empleados en el primer semestre del año?\n",
        "- **Medible:** Evaluaciones de competencias y tasas de retención antes y después de la rotación de campo.\n",
        "- **Accionable/Alcanzable:** Datos disponibles de evaluaciones de desempeño y registros de rotación de empleados.\n",
        "- **Relevante:** La rotación de campo es crucial para el desarrollo de competencias y la retención de empleados.\n",
        "- **Con Temporalidad:** Primer semestre del año."
      ],
      "metadata": {
        "id": "kAlD9ZCW_Gta"
      }
    }
  ]
}